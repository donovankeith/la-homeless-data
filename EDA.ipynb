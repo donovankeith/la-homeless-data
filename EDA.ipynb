{
 "cells": [
  {
   "cell_type": "raw",
   "metadata": {},
   "source": [
    "Author: Isaac Moore"
   ]
  },
  {
   "cell_type": "code",
   "execution_count": 1,
   "metadata": {
    "collapsed": true
   },
   "outputs": [],
   "source": [
    "import pandas as pd\n",
    "import numpy as np\n",
    "import matplotlib.pyplot as plt\n",
    "import seaborn as sns\n",
    "%matplotlib inline"
   ]
  },
  {
   "cell_type": "code",
   "execution_count": 2,
   "metadata": {
    "collapsed": false
   },
   "outputs": [
    {
     "data": {
      "text/html": [
       "<div>\n",
       "<table border=\"1\" class=\"dataframe\">\n",
       "  <thead>\n",
       "    <tr style=\"text-align: right;\">\n",
       "      <th></th>\n",
       "      <th>censusTract</th>\n",
       "      <th>Year</th>\n",
       "      <th>City</th>\n",
       "      <th>CommunityName</th>\n",
       "      <th>Detailed_Name</th>\n",
       "      <th>SPA</th>\n",
       "      <th>SD</th>\n",
       "      <th>CD</th>\n",
       "      <th>SSD</th>\n",
       "      <th>AD</th>\n",
       "      <th>...</th>\n",
       "      <th>totShYouthSingYouth</th>\n",
       "      <th>totSHYouthFamHH</th>\n",
       "      <th>totShYouthFamMemb</th>\n",
       "      <th>totShYouthUnaccYouth</th>\n",
       "      <th>totUnsheltPeople</th>\n",
       "      <th>totESPeople</th>\n",
       "      <th>totTHPeople</th>\n",
       "      <th>totSHPeople</th>\n",
       "      <th>totSheltPeople</th>\n",
       "      <th>totPeople</th>\n",
       "    </tr>\n",
       "  </thead>\n",
       "  <tbody>\n",
       "    <tr>\n",
       "      <th>0</th>\n",
       "      <td>221500</td>\n",
       "      <td>2016</td>\n",
       "      <td>Los Angeles</td>\n",
       "      <td>Adams</td>\n",
       "      <td>Empowerment Congress North NC</td>\n",
       "      <td>6</td>\n",
       "      <td>2</td>\n",
       "      <td>8</td>\n",
       "      <td>30</td>\n",
       "      <td>53</td>\n",
       "      <td>...</td>\n",
       "      <td>0</td>\n",
       "      <td>0</td>\n",
       "      <td>0</td>\n",
       "      <td>0</td>\n",
       "      <td>18</td>\n",
       "      <td>0</td>\n",
       "      <td>0</td>\n",
       "      <td>0</td>\n",
       "      <td>0</td>\n",
       "      <td>18</td>\n",
       "    </tr>\n",
       "    <tr>\n",
       "      <th>1</th>\n",
       "      <td>221601</td>\n",
       "      <td>2016</td>\n",
       "      <td>Los Angeles</td>\n",
       "      <td>Adams</td>\n",
       "      <td>Empowerment Congress North NC</td>\n",
       "      <td>6</td>\n",
       "      <td>2</td>\n",
       "      <td>8</td>\n",
       "      <td>30</td>\n",
       "      <td>53</td>\n",
       "      <td>...</td>\n",
       "      <td>0</td>\n",
       "      <td>0</td>\n",
       "      <td>0</td>\n",
       "      <td>0</td>\n",
       "      <td>21</td>\n",
       "      <td>0</td>\n",
       "      <td>0</td>\n",
       "      <td>0</td>\n",
       "      <td>0</td>\n",
       "      <td>21</td>\n",
       "    </tr>\n",
       "    <tr>\n",
       "      <th>2</th>\n",
       "      <td>221710</td>\n",
       "      <td>2016</td>\n",
       "      <td>Los Angeles</td>\n",
       "      <td>Adams</td>\n",
       "      <td>Empowerment Congress North NC</td>\n",
       "      <td>6</td>\n",
       "      <td>1</td>\n",
       "      <td>8</td>\n",
       "      <td>30</td>\n",
       "      <td>59</td>\n",
       "      <td>...</td>\n",
       "      <td>0</td>\n",
       "      <td>0</td>\n",
       "      <td>0</td>\n",
       "      <td>0</td>\n",
       "      <td>18</td>\n",
       "      <td>0</td>\n",
       "      <td>0</td>\n",
       "      <td>0</td>\n",
       "      <td>0</td>\n",
       "      <td>18</td>\n",
       "    </tr>\n",
       "    <tr>\n",
       "      <th>3</th>\n",
       "      <td>221810</td>\n",
       "      <td>2016</td>\n",
       "      <td>Los Angeles</td>\n",
       "      <td>Adams</td>\n",
       "      <td>Empowerment Congress North NC</td>\n",
       "      <td>6</td>\n",
       "      <td>2</td>\n",
       "      <td>8</td>\n",
       "      <td>30</td>\n",
       "      <td>59</td>\n",
       "      <td>...</td>\n",
       "      <td>0</td>\n",
       "      <td>0</td>\n",
       "      <td>0</td>\n",
       "      <td>0</td>\n",
       "      <td>30</td>\n",
       "      <td>0</td>\n",
       "      <td>0</td>\n",
       "      <td>0</td>\n",
       "      <td>0</td>\n",
       "      <td>30</td>\n",
       "    </tr>\n",
       "    <tr>\n",
       "      <th>4</th>\n",
       "      <td>221820</td>\n",
       "      <td>2016</td>\n",
       "      <td>Los Angeles</td>\n",
       "      <td>Adams</td>\n",
       "      <td>Empowerment Congress North NC</td>\n",
       "      <td>6</td>\n",
       "      <td>2</td>\n",
       "      <td>9</td>\n",
       "      <td>30</td>\n",
       "      <td>59</td>\n",
       "      <td>...</td>\n",
       "      <td>0</td>\n",
       "      <td>0</td>\n",
       "      <td>0</td>\n",
       "      <td>0</td>\n",
       "      <td>11</td>\n",
       "      <td>0</td>\n",
       "      <td>0</td>\n",
       "      <td>0</td>\n",
       "      <td>0</td>\n",
       "      <td>11</td>\n",
       "    </tr>\n",
       "  </tbody>\n",
       "</table>\n",
       "<p>5 rows × 56 columns</p>\n",
       "</div>"
      ],
      "text/plain": [
       "   censusTract  Year         City CommunityName  \\\n",
       "0       221500  2016  Los Angeles         Adams   \n",
       "1       221601  2016  Los Angeles         Adams   \n",
       "2       221710  2016  Los Angeles         Adams   \n",
       "3       221810  2016  Los Angeles         Adams   \n",
       "4       221820  2016  Los Angeles         Adams   \n",
       "\n",
       "                   Detailed_Name  SPA  SD  CD  SSD  AD    ...      \\\n",
       "0  Empowerment Congress North NC    6   2   8   30  53    ...       \n",
       "1  Empowerment Congress North NC    6   2   8   30  53    ...       \n",
       "2  Empowerment Congress North NC    6   1   8   30  59    ...       \n",
       "3  Empowerment Congress North NC    6   2   8   30  59    ...       \n",
       "4  Empowerment Congress North NC    6   2   9   30  59    ...       \n",
       "\n",
       "  totShYouthSingYouth totSHYouthFamHH  totShYouthFamMemb  \\\n",
       "0                   0               0                  0   \n",
       "1                   0               0                  0   \n",
       "2                   0               0                  0   \n",
       "3                   0               0                  0   \n",
       "4                   0               0                  0   \n",
       "\n",
       "   totShYouthUnaccYouth  totUnsheltPeople  totESPeople  totTHPeople  \\\n",
       "0                     0                18            0            0   \n",
       "1                     0                21            0            0   \n",
       "2                     0                18            0            0   \n",
       "3                     0                30            0            0   \n",
       "4                     0                11            0            0   \n",
       "\n",
       "   totSHPeople  totSheltPeople  totPeople  \n",
       "0            0               0         18  \n",
       "1            0               0         21  \n",
       "2            0               0         18  \n",
       "3            0               0         30  \n",
       "4            0               0         11  \n",
       "\n",
       "[5 rows x 56 columns]"
      ]
     },
     "execution_count": 2,
     "metadata": {},
     "output_type": "execute_result"
    }
   ],
   "source": [
    "data = pd.read_excel('/Users/isaacmoore/Desktop/la-homeless-data/data/HC2016_Total_Counts_by_Census_Tract_LA_CoC_07132016.xlsx', sheetname='Data')\n",
    "data.head()"
   ]
  },
  {
   "cell_type": "code",
   "execution_count": 4,
   "metadata": {
    "collapsed": false
   },
   "outputs": [],
   "source": [
    "df = data.copy()"
   ]
  },
  {
   "cell_type": "code",
   "execution_count": 8,
   "metadata": {
    "collapsed": false
   },
   "outputs": [
    {
     "data": {
      "text/plain": [
       "censusTract              int64\n",
       "Year                     int64\n",
       "City                    object\n",
       "CommunityName           object\n",
       "Detailed_Name           object\n",
       "SPA                      int64\n",
       "SD                       int64\n",
       "CD                       int64\n",
       "SSD                      int64\n",
       "AD                       int64\n",
       "DemogSurveySample       object\n",
       "YouthCountSample        object\n",
       "totStreetSingAdult       int64\n",
       "totStreetFamHH           int64\n",
       "totStreetFamMemb         int64\n",
       "totCars                  int64\n",
       "totVans                  int64\n",
       "totCampers               int64\n",
       "totTents                 int64\n",
       "totEncamp                int64\n",
       "totCarPeople             int64\n",
       "totVanPeople             int64\n",
       "totCamperPeople          int64\n",
       "totTentPeople            int64\n",
       "totEncampPeople          int64\n",
       "totYouthIndiv            int64\n",
       "totYouthUnaccKid         int64\n",
       "totYouthFamHH            int64\n",
       "totYouthFamMemb          int64\n",
       "totEsAdultSingAdult      int64\n",
       "totESAdultFamHH          int64\n",
       "totEsAdultFamMemb        int64\n",
       "totEsYouthSingYouth      int64\n",
       "totESYouthFamHH          int64\n",
       "totEsYouthFamMemb        int64\n",
       "totEsYouthUnaccYouth     int64\n",
       "totThAdultSingAdult      int64\n",
       "totTHAdultFamHH          int64\n",
       "totThAdultFamMemb        int64\n",
       "totThYouthSingYouth      int64\n",
       "totTHYouthFamHH          int64\n",
       "totThYouthFamMemb        int64\n",
       "totThYouthUnaccYouth     int64\n",
       "totShAdultSingAdult      int64\n",
       "totSHAdultFamHH          int64\n",
       "totShAdultFamMemb        int64\n",
       "totShYouthSingYouth      int64\n",
       "totSHYouthFamHH          int64\n",
       "totShYouthFamMemb        int64\n",
       "totShYouthUnaccYouth     int64\n",
       "totUnsheltPeople         int64\n",
       "totESPeople              int64\n",
       "totTHPeople              int64\n",
       "totSHPeople              int64\n",
       "totSheltPeople           int64\n",
       "totPeople                int64\n",
       "dtype: object"
      ]
     },
     "execution_count": 8,
     "metadata": {},
     "output_type": "execute_result"
    }
   ],
   "source": [
    "df.dtypes"
   ]
  },
  {
   "cell_type": "code",
   "execution_count": 5,
   "metadata": {
    "collapsed": false
   },
   "outputs": [
    {
     "name": "stdout",
     "output_type": "stream",
     "text": [
      "<class 'pandas.core.frame.DataFrame'>\n",
      "Int64Index: 2155 entries, 0 to 2154\n",
      "Data columns (total 56 columns):\n",
      "censusTract             2155 non-null int64\n",
      "Year                    2155 non-null int64\n",
      "City                    2155 non-null object\n",
      "CommunityName           2155 non-null object\n",
      "Detailed_Name           2155 non-null object\n",
      "SPA                     2155 non-null int64\n",
      "SD                      2155 non-null int64\n",
      "CD                      2155 non-null int64\n",
      "SSD                     2155 non-null int64\n",
      "AD                      2155 non-null int64\n",
      "DemogSurveySample       2155 non-null object\n",
      "YouthCountSample        2155 non-null object\n",
      "totStreetSingAdult      2155 non-null int64\n",
      "totStreetFamHH          2155 non-null int64\n",
      "totStreetFamMemb        2155 non-null int64\n",
      "totCars                 2155 non-null int64\n",
      "totVans                 2155 non-null int64\n",
      "totCampers              2155 non-null int64\n",
      "totTents                2155 non-null int64\n",
      "totEncamp               2155 non-null int64\n",
      "totCarPeople            2155 non-null int64\n",
      "totVanPeople            2155 non-null int64\n",
      "totCamperPeople         2155 non-null int64\n",
      "totTentPeople           2155 non-null int64\n",
      "totEncampPeople         2155 non-null int64\n",
      "totYouthIndiv           2155 non-null int64\n",
      "totYouthUnaccKid        2155 non-null int64\n",
      "totYouthFamHH           2155 non-null int64\n",
      "totYouthFamMemb         2155 non-null int64\n",
      "totEsAdultSingAdult     2155 non-null int64\n",
      "totESAdultFamHH         2155 non-null int64\n",
      "totEsAdultFamMemb       2155 non-null int64\n",
      "totEsYouthSingYouth     2155 non-null int64\n",
      "totESYouthFamHH         2155 non-null int64\n",
      "totEsYouthFamMemb       2155 non-null int64\n",
      "totEsYouthUnaccYouth    2155 non-null int64\n",
      "totThAdultSingAdult     2155 non-null int64\n",
      "totTHAdultFamHH         2155 non-null int64\n",
      "totThAdultFamMemb       2155 non-null int64\n",
      "totThYouthSingYouth     2155 non-null int64\n",
      "totTHYouthFamHH         2155 non-null int64\n",
      "totThYouthFamMemb       2155 non-null int64\n",
      "totThYouthUnaccYouth    2155 non-null int64\n",
      "totShAdultSingAdult     2155 non-null int64\n",
      "totSHAdultFamHH         2155 non-null int64\n",
      "totShAdultFamMemb       2155 non-null int64\n",
      "totShYouthSingYouth     2155 non-null int64\n",
      "totSHYouthFamHH         2155 non-null int64\n",
      "totShYouthFamMemb       2155 non-null int64\n",
      "totShYouthUnaccYouth    2155 non-null int64\n",
      "totUnsheltPeople        2155 non-null int64\n",
      "totESPeople             2155 non-null int64\n",
      "totTHPeople             2155 non-null int64\n",
      "totSHPeople             2155 non-null int64\n",
      "totSheltPeople          2155 non-null int64\n",
      "totPeople               2155 non-null int64\n",
      "dtypes: int64(51), object(5)\n",
      "memory usage: 959.6+ KB\n"
     ]
    }
   ],
   "source": [
    "df.info()"
   ]
  },
  {
   "cell_type": "code",
   "execution_count": 11,
   "metadata": {
    "collapsed": false
   },
   "outputs": [
    {
     "data": {
      "text/plain": [
       "Los Angeles                                993\n",
       "Santa Clarita                               44\n",
       "Torrance                                    31\n",
       "Pomona                                      30\n",
       "Lancaster                                   29\n",
       "Palmdale                                    29\n",
       "East Los Angeles                            28\n",
       "Inglewood                                   27\n",
       "El Monte                                    25\n",
       "West Covina                                 25\n",
       "Burbank                                     24\n",
       "Compton                                     23\n",
       "Downey                                      22\n",
       "South Gate                                  22\n",
       "Norwalk                                     21\n",
       "Alhambra                                    20\n",
       "Unincorporated Antelope Valley              19\n",
       "Carson                                      19\n",
       "Santa Monica                                19\n",
       "Whittier                                    18\n",
       "Bellflower                                  18\n",
       "Huntington Park                             18\n",
       "Lakewood                                    18\n",
       "Hawthorne                                   17\n",
       "Baldwin Park                                16\n",
       "Montebello                                  15\n",
       "Glendora                                    14\n",
       "Monterey Park                               14\n",
       "Gardena                                     14\n",
       "Redondo Beach                               13\n",
       "                                          ... \n",
       "Citrus                                       2\n",
       "La Habra Heights                             2\n",
       "View Park-Windsor Hills                      2\n",
       "Santa Susana Mountains                       1\n",
       "Rolling Hills                                1\n",
       "Unincorporated Channel Islands               1\n",
       "Whittier Narrows                             1\n",
       "East Pasadena                                1\n",
       "San Pasqual                                  1\n",
       "Unincorporated Calabasas                     1\n",
       "Unincorporated Lynwood                       1\n",
       "Unincorporated Monrovia                      1\n",
       "Agua Dulce                                   1\n",
       "Unincorporated Diamond Bar                   1\n",
       "Avalon                                       1\n",
       "South San Gabriel                            1\n",
       "Unincorporated Pomona                        1\n",
       "Unincorporated Westlake Village              1\n",
       "Unincorporated Covina                        1\n",
       "Calabasas                                    1\n",
       "Bradbury                                     1\n",
       "Ladera Heights                               1\n",
       "Unincorporated Lancaster                     1\n",
       "US Department of Affairs West LA Campus      1\n",
       "Vernon                                       1\n",
       "Universal City                               1\n",
       "Topanga                                      1\n",
       "Westlake Village                             1\n",
       "Vincent                                      1\n",
       "Irwindale                                    1\n",
       "Name: City, dtype: int64"
      ]
     },
     "execution_count": 11,
     "metadata": {},
     "output_type": "execute_result"
    }
   ],
   "source": [
    "df.City.value_counts()"
   ]
  },
  {
   "cell_type": "code",
   "execution_count": null,
   "metadata": {
    "collapsed": true
   },
   "outputs": [],
   "source": [
    "df."
   ]
  },
  {
   "cell_type": "code",
   "execution_count": 21,
   "metadata": {
    "collapsed": false
   },
   "outputs": [
    {
     "data": {
      "text/plain": [
       "144"
      ]
     },
     "execution_count": 21,
     "metadata": {},
     "output_type": "execute_result"
    }
   ],
   "source": [
    "df.groupby('City').totPeople.count()"
   ]
  },
  {
   "cell_type": "code",
   "execution_count": null,
   "metadata": {
    "collapsed": true
   },
   "outputs": [],
   "source": []
  },
  {
   "cell_type": "code",
   "execution_count": null,
   "metadata": {
    "collapsed": true
   },
   "outputs": [],
   "source": []
  },
  {
   "cell_type": "code",
   "execution_count": null,
   "metadata": {
    "collapsed": true
   },
   "outputs": [],
   "source": []
  },
  {
   "cell_type": "code",
   "execution_count": null,
   "metadata": {
    "collapsed": true
   },
   "outputs": [],
   "source": []
  }
 ],
 "metadata": {
  "kernelspec": {
   "display_name": "Python 2",
   "language": "python",
   "name": "python2"
  },
  "language_info": {
   "codemirror_mode": {
    "name": "ipython",
    "version": 2
   },
   "file_extension": ".py",
   "mimetype": "text/x-python",
   "name": "python",
   "nbconvert_exporter": "python",
   "pygments_lexer": "ipython2",
   "version": "2.7.12"
  }
 },
 "nbformat": 4,
 "nbformat_minor": 0
}
